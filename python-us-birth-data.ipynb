{
 "cells": [
  {
   "cell_type": "markdown",
   "metadata": {},
   "source": [
    "# Analyzing U.S Birth Data\n",
    "\n",
    "The project is aimed at analyzing U.S birth data using **python programming concepts.**\n",
    "\n",
    "The dataset for the project is obtained [here](https://raw.githubusercontent.com/fivethirtyeight/data/master/births/US_births_1994-2003_CDC_NCHS.csv)"
   ]
  },
  {
   "cell_type": "markdown",
   "metadata": {},
   "source": [
    "The first step is to read the file into our notebook:"
   ]
  },
  {
   "cell_type": "code",
   "execution_count": 5,
   "metadata": {},
   "outputs": [],
   "source": [
    "# Using the open() function to read the file in\n",
    "file = open(\"birth_data.csv\", 'r')\n",
    "#Reading the file into an object we can split on\n",
    "file_read = file.read()\n",
    "#Spliting the file into a single list having multiple rows\n",
    "string_list = file_read.split('\\n')"
   ]
  },
  {
   "cell_type": "code",
   "execution_count": 6,
   "metadata": {},
   "outputs": [
    {
     "data": {
      "text/plain": [
       "['year,month,date_of_month,day_of_week,births',\n",
       " '1994,1,1,6,8096',\n",
       " '1994,1,2,7,7772',\n",
       " '1994,1,3,1,10142',\n",
       " '1994,1,4,2,11248',\n",
       " '1994,1,5,3,11053',\n",
       " '1994,1,6,4,11406',\n",
       " '1994,1,7,5,11251',\n",
       " '1994,1,8,6,8653',\n",
       " '1994,1,9,7,7910']"
      ]
     },
     "execution_count": 6,
     "metadata": {},
     "output_type": "execute_result"
    }
   ],
   "source": [
    "#Displaying the first 10 rows of the file\n",
    "string_list[:10]"
   ]
  },
  {
   "cell_type": "markdown",
   "metadata": {},
   "source": [
    "From the data we can see that the columns are:\n",
    "\n",
    "- year\n",
    "- month\n",
    "- date_of_month\n",
    "- day_of_weeks\n",
    "- births"
   ]
  },
  {
   "cell_type": "markdown",
   "metadata": {},
   "source": [
    "In order to read this data into our notebook in a faster way using a single function call\n",
    "and convert any csv file into a list of lists where each list represents a single row of the \n",
    "file we use the code shown below: "
   ]
  },
  {
   "cell_type": "code",
   "execution_count": 10,
   "metadata": {
    "collapsed": true
   },
   "outputs": [],
   "source": [
    "#Function to return a list of lists from a csv file\n",
    "\n",
    "def read_csv(FileName):\n",
    "    \n",
    "    file = open(FileName, 'r')\n",
    "    file = file.read()\n",
    "    string_list = file.split('\\n')[1:] #skip the header row\n",
    "    \n",
    "    final_list = [] #Initilaizing an empty list to store our list of lists\n",
    "    \n",
    "    for element in string_list:\n",
    "        \n",
    "        string_fields = element.split(',') #Splitting on the delimiter of the file to make each row into a list\n",
    "        int_fields = [] #Initializing an empty list to store the integer type for each row\n",
    "        \n",
    "        for row in string_fields:\n",
    "            int_fields.append(int(row)) #Converting the row into integer \n",
    "        \n",
    "        final_list.append(int_fields)\n",
    "        \n",
    "    return final_list"
   ]
  },
  {
   "cell_type": "markdown",
   "metadata": {},
   "source": [
    "A brief overview of the **read_csv** function: \n",
    "\n",
    "- Reads the file into a string, splits the string on the newline character (\"\\n\"), \n",
    "  and removes the header row.\n",
    "  \n",
    "Uses a for loop to:\n",
    "\n",
    "- Iterate over string_list,\n",
    "- Create an empty list named int_fields,\n",
    "- Splits each row on the comma delimiter (,) and assigns the resulting list to string_fields,\n",
    "- Converts each value in string_fields to an integer and appends to int_fields,\n",
    "- Appends int_fields to final_list.\n",
    "- Returns final_list."
   ]
  },
  {
   "cell_type": "code",
   "execution_count": 11,
   "metadata": {},
   "outputs": [
    {
     "data": {
      "text/plain": [
       "[[1994, 1, 1, 6, 8096],\n",
       " [1994, 1, 2, 7, 7772],\n",
       " [1994, 1, 3, 1, 10142],\n",
       " [1994, 1, 4, 2, 11248],\n",
       " [1994, 1, 5, 3, 11053],\n",
       " [1994, 1, 6, 4, 11406],\n",
       " [1994, 1, 7, 5, 11251],\n",
       " [1994, 1, 8, 6, 8653],\n",
       " [1994, 1, 9, 7, 7910],\n",
       " [1994, 1, 10, 1, 10498]]"
      ]
     },
     "execution_count": 11,
     "metadata": {},
     "output_type": "execute_result"
    }
   ],
   "source": [
    "function_test = read_csv(\"birth_data.csv\")\n",
    "function_test[:10]"
   ]
  },
  {
   "cell_type": "markdown",
   "metadata": {},
   "source": [
    "Testing the function we can see that the function successfully returns a list of lists:\n",
    "\n",
    "- Where each list inside the final_list represents a single row of the csv file.\n",
    "- Each element in the list is an integer. \n",
    "- There is no header row"
   ]
  },
  {
   "cell_type": "markdown",
   "metadata": {},
   "source": [
    "Now that the data is in a more useable format we can start analyzing it.\n",
    "Extracting the total number of births for each month across all years in the dataset will give\n",
    "us a concise picture of which month in a given year has the highest or lowest number of births"
   ]
  },
  {
   "cell_type": "code",
   "execution_count": 12,
   "metadata": {
    "collapsed": true
   },
   "outputs": [],
   "source": [
    "def month_births(list_of_lists):\n",
    "    \n",
    "    births_per_month = {} #Initialize empty dictionary to store month and number of births \n",
    "    \n",
    "    for row in list_of_lists:\n",
    "        month = row[1] #Extract the month from list of lists\n",
    "        births = row[4] #Extract the number of births from list of lists\n",
    "        \n",
    "        if month in births_per_month:\n",
    "            births_per_month[month] = births_per_month[month] + births\n",
    "        else:\n",
    "            births_per_month[month] = births\n",
    "            \n",
    "    return births_per_month"
   ]
  },
  {
   "cell_type": "markdown",
   "metadata": {},
   "source": [
    "The function above aims at creating:\n",
    "\n",
    "- A dictionary that maps the month to the number of births for that month across all years.\n",
    "- We extract the month and number of births for that month from the list of lists.\n",
    "\n",
    "Then right a for loop in which: \n",
    "\n",
    "- If the month value already exists as a key in births_per_month, \n",
    "  the births value is added to the existing value,\n",
    "- If the month value doesn't exist as a key in births_per_month, it's created and the \n",
    "  associated value is the births value"
   ]
  },
  {
   "cell_type": "code",
   "execution_count": 14,
   "metadata": {},
   "outputs": [
    {
     "data": {
      "text/plain": [
       "{1: 3232517,\n",
       " 2: 3018140,\n",
       " 3: 3322069,\n",
       " 4: 3185314,\n",
       " 5: 3350907,\n",
       " 6: 3296530,\n",
       " 7: 3498783,\n",
       " 8: 3525858,\n",
       " 9: 3439698,\n",
       " 10: 3378814,\n",
       " 11: 3171647,\n",
       " 12: 3301860}"
      ]
     },
     "execution_count": 14,
     "metadata": {},
     "output_type": "execute_result"
    }
   ],
   "source": [
    "#Testing the function\n",
    "\n",
    "month_births(function_test)"
   ]
  },
  {
   "cell_type": "markdown",
   "metadata": {},
   "source": [
    "We can see that the function:\n",
    "    \n",
    "- Gives us the number of births associated for each month.\n",
    "- August is the month with the most number of births at 3525858.\n",
    "- Febuary has the least number of births at 3018140.\n",
    "\n",
    "Febuary could have the least number of births partly because it only has 28 days or 29 on a leap year\n",
    "while the rest of the months have 30 or 31 days across which gives them 3 to 4 additional days to \n",
    "have births."
   ]
  },
  {
   "cell_type": "markdown",
   "metadata": {},
   "source": [
    "Extracting the number of births of every day of the week will enable us to gain insights about\n",
    "which day of the particular week had the highest and lowest number of births"
   ]
  },
  {
   "cell_type": "code",
   "execution_count": 17,
   "metadata": {
    "collapsed": true
   },
   "outputs": [],
   "source": [
    "def dow_births(list_of_lists):\n",
    "    \n",
    "    births_per_dow = {} #Initialize empty dictionary to store day of week and number of births \n",
    "    \n",
    "    for row in list_of_lists:\n",
    "        dow = row[3] #Extract the day of week from list of lists\n",
    "        births = row[4] #Extract the number of births from list of lists\n",
    "        \n",
    "        if dow in births_per_dow:\n",
    "            births_per_dow[dow] = births_per_dow[dow] + births\n",
    "        else:\n",
    "            births_per_dow[dow] = births\n",
    "            \n",
    "    return births_per_dow"
   ]
  },
  {
   "cell_type": "markdown",
   "metadata": {},
   "source": [
    "The function above returns a dictionary that:\n",
    "\n",
    "- Returns the day of the week and number of births associated for that particular day."
   ]
  },
  {
   "cell_type": "code",
   "execution_count": 18,
   "metadata": {},
   "outputs": [
    {
     "data": {
      "text/plain": [
       "{1: 5789166,\n",
       " 2: 6446196,\n",
       " 3: 6322855,\n",
       " 4: 6288429,\n",
       " 5: 6233657,\n",
       " 6: 4562111,\n",
       " 7: 4079723}"
      ]
     },
     "execution_count": 18,
     "metadata": {},
     "output_type": "execute_result"
    }
   ],
   "source": [
    "dow_births(function_test)"
   ]
  },
  {
   "cell_type": "markdown",
   "metadata": {},
   "source": [
    "We can observe that: \n",
    "\n",
    "- Tuesday has the highest number of births at 6446196.\n",
    "- Sunday has the least number of births at 4079723."
   ]
  },
  {
   "cell_type": "markdown",
   "metadata": {},
   "source": [
    "Since the two functions we created - **month_births** and **dow_births** are pretty \n",
    "similar we can create a single generic function that aims to return the number of births \n",
    "for each month, day of the week, year and date of the month."
   ]
  },
  {
   "cell_type": "code",
   "execution_count": 19,
   "metadata": {
    "collapsed": true
   },
   "outputs": [],
   "source": [
    "def calc_counts(list_of_lists, column):\n",
    "    \n",
    "    sums_dict = {}\n",
    "    \n",
    "    for row in list_of_lists:\n",
    "        \n",
    "        col_value = row[column]\n",
    "        births = row[4]\n",
    "        \n",
    "        if col_value in sums_dict:\n",
    "            sums_dict[col_value] = sums_dict[col_value] + births\n",
    "        else:\n",
    "            sums_dict[col_value] = births\n",
    "            \n",
    "    return sums_dict"
   ]
  },
  {
   "cell_type": "markdown",
   "metadata": {},
   "source": [
    "The generic function - **calc_counts** will return a dictionary that contains the number of births for \n",
    "any time period in our data set. "
   ]
  },
  {
   "cell_type": "markdown",
   "metadata": {},
   "source": [
    "We can now extract the number of births by year:"
   ]
  },
  {
   "cell_type": "code",
   "execution_count": 20,
   "metadata": {},
   "outputs": [
    {
     "data": {
      "text/plain": [
       "{1994: 3952767,\n",
       " 1995: 3899589,\n",
       " 1996: 3891494,\n",
       " 1997: 3880894,\n",
       " 1998: 3941553,\n",
       " 1999: 3959417,\n",
       " 2000: 4058814,\n",
       " 2001: 4025933,\n",
       " 2002: 4021726,\n",
       " 2003: 4089950}"
      ]
     },
     "execution_count": 20,
     "metadata": {},
     "output_type": "execute_result"
    }
   ],
   "source": [
    "#Number of births by year\n",
    "\n",
    "calc_counts(function_test, 0)"
   ]
  },
  {
   "cell_type": "markdown",
   "metadata": {},
   "source": [
    "We can see that the number of births has been increasing in an upward trend every year but:\n",
    "\n",
    "- There has been a decline in the number of births in 1996 compared to 1995. \n",
    "- There has been a decline in the number of births in 1997 compared to 1997. \n",
    "- There has been a decline in the number of births in 2001 compared to 2000.\n",
    "- There has been a decline in the number of births in 2002 compared to 2001. \n",
    "\n",
    "When we see a general upward trend in the population over the years which is something to be expected\n",
    "and decline in population calls for some deeper investgation into our data.\n",
    "\n",
    "The decline in population could be due to a plethora of possible reasons such as:\n",
    "\n",
    "- Higher mortality rate due to a certain illness.\n",
    "- Families reducing the number of children they have.\n",
    "- Errors in data entry."
   ]
  },
  {
   "cell_type": "markdown",
   "metadata": {},
   "source": [
    "Let's take a look at the number of births by the day of the month:"
   ]
  },
  {
   "cell_type": "code",
   "execution_count": 21,
   "metadata": {},
   "outputs": [
    {
     "data": {
      "text/plain": [
       "{1: 1276557,\n",
       " 2: 1288739,\n",
       " 3: 1304499,\n",
       " 4: 1288154,\n",
       " 5: 1299953,\n",
       " 6: 1304474,\n",
       " 7: 1310459,\n",
       " 8: 1312297,\n",
       " 9: 1303292,\n",
       " 10: 1320764,\n",
       " 11: 1314361,\n",
       " 12: 1318437,\n",
       " 13: 1277684,\n",
       " 14: 1320153,\n",
       " 15: 1319171,\n",
       " 16: 1315192,\n",
       " 17: 1324953,\n",
       " 18: 1326855,\n",
       " 19: 1318727,\n",
       " 20: 1324821,\n",
       " 21: 1322897,\n",
       " 22: 1317381,\n",
       " 23: 1293290,\n",
       " 24: 1288083,\n",
       " 25: 1272116,\n",
       " 26: 1284796,\n",
       " 27: 1294395,\n",
       " 28: 1307685,\n",
       " 29: 1223161,\n",
       " 30: 1202095,\n",
       " 31: 746696}"
      ]
     },
     "execution_count": 21,
     "metadata": {},
     "output_type": "execute_result"
    }
   ],
   "source": [
    "#Number of births by date of month\n",
    "\n",
    "calc_counts(function_test, 2)"
   ]
  },
  {
   "cell_type": "markdown",
   "metadata": {},
   "source": [
    "From the data above we can see that:\n",
    "    \n",
    "- The 31st of every month has the lowest number of births. This is to be expected as not all months \n",
    "  have 31 days.\n",
    "- The 18th of every month has the highest number of births."
   ]
  },
  {
   "cell_type": "markdown",
   "metadata": {},
   "source": [
    "# Conclusion\n",
    "\n",
    "From the analysis above we gathered useful statistics on the birth data in the U.S by making use\n",
    "of functions to give us data in a very neat format."
   ]
  },
  {
   "cell_type": "code",
   "execution_count": null,
   "metadata": {
    "collapsed": true
   },
   "outputs": [],
   "source": []
  }
 ],
 "metadata": {
  "kernelspec": {
   "display_name": "Python 3",
   "language": "python",
   "name": "python3"
  },
  "language_info": {
   "codemirror_mode": {
    "name": "ipython",
    "version": 3
   },
   "file_extension": ".py",
   "mimetype": "text/x-python",
   "name": "python",
   "nbconvert_exporter": "python",
   "pygments_lexer": "ipython3",
   "version": "3.6.1"
  }
 },
 "nbformat": 4,
 "nbformat_minor": 2
}
