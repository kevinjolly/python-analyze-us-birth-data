{
 "cells": [
  {
   "cell_type": "markdown",
   "metadata": {},
   "source": [
    "# Analyzing U.S Birth Data\n",
    "\n",
    "The project is aimed at analyzing U.S birth data using **python programming concepts.**\n",
    "\n",
    "The dataset for the project is obtained [here](https://raw.githubusercontent.com/fivethirtyeight/data/master/births/US_births_1994-2003_CDC_NCHS.csv)"
   ]
  },
  {
   "cell_type": "markdown",
   "metadata": {},
   "source": [
    "The first step is to read the file into our notebook:"
   ]
  },
  {
   "cell_type": "code",
   "execution_count": 2,
   "metadata": {},
   "outputs": [],
   "source": [
    "# Using the open() function to read the file in\n",
    "file = open(\"birth_data.csv\", 'r')\n",
    "#Reading the file into an object we can split on\n",
    "file_read = file.read()\n",
    "#Spliting the file into a single list having multiple rows\n",
    "split = file_read.split('\\n')"
   ]
  },
  {
   "cell_type": "code",
   "execution_count": 3,
   "metadata": {},
   "outputs": [
    {
     "data": {
      "text/plain": [
       "['year,month,date_of_month,day_of_week,births',\n",
       " '1994,1,1,6,8096',\n",
       " '1994,1,2,7,7772',\n",
       " '1994,1,3,1,10142',\n",
       " '1994,1,4,2,11248',\n",
       " '1994,1,5,3,11053',\n",
       " '1994,1,6,4,11406',\n",
       " '1994,1,7,5,11251',\n",
       " '1994,1,8,6,8653',\n",
       " '1994,1,9,7,7910']"
      ]
     },
     "execution_count": 3,
     "metadata": {},
     "output_type": "execute_result"
    }
   ],
   "source": [
    "#Displaying the first 10 rows of the file\n",
    "split[:10]"
   ]
  },
  {
   "cell_type": "markdown",
   "metadata": {},
   "source": [
    "From the data we can see that the columns are:\n",
    "\n",
    "- year\n",
    "- month\n",
    "- date_of_month\n",
    "- day_of_weeks\n",
    "- births"
   ]
  },
  {
   "cell_type": "markdown",
   "metadata": {},
   "source": [
    "In order to read this data into our notebook in a faster way using a single function call\n",
    "and convert any csv file into a list of lists where each list represents a single row of the \n",
    "file we use the code shown below: "
   ]
  },
  {
   "cell_type": "code",
   "execution_count": 4,
   "metadata": {
    "collapsed": true
   },
   "outputs": [],
   "source": [
    "#Function to return a list of lists from a csv file\n",
    "\n",
    "def read_csv(FileName):\n",
    "    \n",
    "    file = open(FileName, 'r')\n",
    "    file = file.read()\n",
    "    string_list = file_read.split('\\n')[1:] #skip the header row\n",
    "    \n",
    "    final_list = [] #Initilaizing an empty list to store our list of lists\n",
    "    \n",
    "    for element in string_list:\n",
    "        \n",
    "        string_fields = element.split(',') #Splitting on the delimiter of the file to make each row into a list\n",
    "        int_fields = [] #Initializing an empty list to store the integer type for each row\n",
    "        \n",
    "        for row in string_fields:\n",
    "            int_fields.append(int(row)) #Converting the row into integer \n",
    "        \n",
    "        final_list.append(string_fields)\n",
    "        \n",
    "    return final_list"
   ]
  },
  {
   "cell_type": "code",
   "execution_count": null,
   "metadata": {
    "collapsed": true
   },
   "outputs": [],
   "source": []
  }
 ],
 "metadata": {
  "kernelspec": {
   "display_name": "Python 3",
   "language": "python",
   "name": "python3"
  },
  "language_info": {
   "codemirror_mode": {
    "name": "ipython",
    "version": 3
   },
   "file_extension": ".py",
   "mimetype": "text/x-python",
   "name": "python",
   "nbconvert_exporter": "python",
   "pygments_lexer": "ipython3",
   "version": "3.6.1"
  }
 },
 "nbformat": 4,
 "nbformat_minor": 2
}
